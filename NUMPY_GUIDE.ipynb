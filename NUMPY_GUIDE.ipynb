{
 "cells": [
  {
   "cell_type": "markdown",
   "id": "1b7f2946-eb16-4230-b436-d512af925c81",
   "metadata": {},
   "source": [
    "# NumPy Array"
   ]
  },
  {
   "cell_type": "code",
   "execution_count": 2,
   "id": "efa9d07e",
   "metadata": {
    "editable": true,
    "slideshow": {
     "slide_type": ""
    },
    "tags": []
   },
   "outputs": [],
   "source": [
    "import numpy as np"
   ]
  },
  {
   "cell_type": "code",
   "execution_count": 3,
   "id": "be1cec51-1f5a-4589-b152-57fd91349f7e",
   "metadata": {},
   "outputs": [
    {
     "name": "stdout",
     "output_type": "stream",
     "text": [
      "[1 2 3 4 5]\n",
      "1\n"
     ]
    }
   ],
   "source": [
    "x = [1, 2, 3, 4, 5]  # Create a Python list with values 1 through 5\n",
    "\n",
    "y = np.array(x)  # Convert the Python list to a NumPy array\n",
    "\n",
    "print(y)  # Print the NumPy array: [1 2 3 4 5]\n",
    "\n",
    "print(y.ndim)  # Print the number of dimensions: 1 (since it's a 1D array)\n"
   ]
  },
  {
   "cell_type": "markdown",
   "id": "503da0ea",
   "metadata": {},
   "source": [
    "Create a 2D NumPy array (2x4)"
   ]
  },
  {
   "cell_type": "code",
   "execution_count": 4,
   "id": "b6d09bdf-8793-48c6-bcda-9a42881009b0",
   "metadata": {
    "editable": true,
    "scrolled": true,
    "slideshow": {
     "slide_type": "slide"
    },
    "tags": [
     "Headline"
    ]
   },
   "outputs": [
    {
     "name": "stdout",
     "output_type": "stream",
     "text": [
      "[[1 2 3 4]\n",
      " [5 6 7 8]]\n",
      "2\n"
     ]
    }
   ],
   "source": [
    "arr2 = np.array([[1, 2, 3, 4], [5, 6, 7, 8]])  \n",
    "print(arr2)  # Print the 2D array\n",
    "print(arr2.ndim)  # Print the number of dimensions: 2 (since it's a 2D array)"
   ]
  },
  {
   "cell_type": "markdown",
   "id": "b541495a",
   "metadata": {},
   "source": [
    "Create a 3D NumPy array"
   ]
  },
  {
   "cell_type": "code",
   "execution_count": 6,
   "id": "a539b27b-782d-47cf-b8c8-b51516674928",
   "metadata": {
    "scrolled": true
   },
   "outputs": [
    {
     "name": "stdout",
     "output_type": "stream",
     "text": [
      "[[[1 2 3 4]\n",
      "  [5 6 7 8]\n",
      "  [4 5 6 7]]]\n",
      "3\n"
     ]
    }
   ],
   "source": [
    "arr3 = np.array([[[1, 2, 3, 4], [5, 6, 7, 8], [4, 5, 6, 7]]])  \n",
    "print(arr3)  # Print the 3D array\n",
    "print(arr3.ndim)  # Print the number of dimensions: 3 (since it's a 3D array)\n"
   ]
  },
  {
   "cell_type": "markdown",
   "id": "f0d63662",
   "metadata": {},
   "source": [
    "Create a NumPy array with at least 10 dimensions."
   ]
  },
  {
   "cell_type": "code",
   "execution_count": 7,
   "id": "6edef5a3-eb95-4761-8e7e-1e46682e8a44",
   "metadata": {
    "editable": true,
    "scrolled": true,
    "slideshow": {
     "slide_type": ""
    },
    "tags": []
   },
   "outputs": [
    {
     "name": "stdout",
     "output_type": "stream",
     "text": [
      "[[[[[[[[[[1 2 3 4]]]]]]]]]]\n",
      "10\n"
     ]
    }
   ],
   "source": [
    "arrn = np.array([1, 2, 3, 4], ndmin=10)  \n",
    "# The `ndmin` parameter specifies the minimum number of dimensions.\n",
    "\n",
    "print(arrn)  # Print the 10D array. The array will be \"stretched\" to have 10 dimensions.\n",
    "\n",
    "print(arrn.ndim)  # Print the number of dimensions: 10 \n"
   ]
  },
  {
   "cell_type": "markdown",
   "id": "4f69a94e-f172-4c57-b934-a7c5ad941b1d",
   "metadata": {
    "editable": true,
    "slideshow": {
     "slide_type": "notes"
    },
    "tags": [
     "Headline"
    ]
   },
   "source": [
    "# Zeros()\n",
    "The zeros() function in NumPy creates an array filled with zeros. Here's a brief overview with examples and comments:"
   ]
  },
  {
   "cell_type": "code",
   "execution_count": null,
   "id": "7ffc57ac-2737-4380-93aa-937b2b76bd22",
   "metadata": {
    "scrolled": true
   },
   "outputs": [],
   "source": [
    "# Create a 1D array of zeros with length 5\n",
    "arr1 = np.zeros(5)\n",
    "print(arr1)  # Output: [0. 0. 0. 0. 0.]\n",
    "\n",
    "# Create a 2D array of zeros with shape (3, 4)\n",
    "arr2 = np.zeros((3, 4))\n",
    "print(arr2)  \n",
    "# Output:\n",
    "# [[0. 0. 0. 0.]\n",
    "#  [0. 0. 0. 0.]\n",
    "#  [0. 0. 0. 0.]]\n",
    "\n",
    "# Create a 3D array of zeros with shape (2, 3, 4)\n",
    "arr3 = np.zeros((2, 3, 4))\n",
    "print(arr3)  \n",
    "# Output:\n",
    "# [[[0. 0. 0. 0.]\n",
    "#   [0. 0. 0. 0.]\n",
    "#   [0. 0. 0. 0.]]\n",
    "# \n",
    "#  [[0. 0. 0. 0.]\n",
    "#   [0. 0. 0. 0.]\n",
    "#   [0. 0. 0. 0.]]]\n"
   ]
  },
  {
   "cell_type": "markdown",
   "id": "7b78789d-a13d-4540-9baf-36b88a37e0a3",
   "metadata": {},
   "source": [
    "# Ones()\n",
    "The ones() function in NumPy creates an array filled with ones. Here's how to use it:"
   ]
  },
  {
   "cell_type": "code",
   "execution_count": null,
   "id": "bd1ade2e-e88f-49b2-b7c1-a83ae936140c",
   "metadata": {},
   "outputs": [],
   "source": [
    "# Create a 1D array of ones with length 5\n",
    "arr1 = np.ones(5)\n",
    "print(arr1)  \n",
    "# Output: [1. 1. 1. 1. 1.]\n",
    "# A 1D array with five elements, all set to 1.0.\n",
    "\n",
    "# Create a 2D array of ones with shape (3, 4)\n",
    "arr2 = np.ones((3, 4))\n",
    "print(arr2)  \n",
    "# Output:\n",
    "# [[1. 1. 1. 1.]\n",
    "#  [1. 1. 1. 1.]\n",
    "#  [1. 1. 1. 1.]]\n",
    "# A 2D array with 3 rows and 4 columns, all set to 1.0.\n",
    "\n",
    "# Create a 3D array of ones with shape (2, 3, 4)\n",
    "arr3 = np.ones((2, 3, 4))\n",
    "print(arr3)  \n",
    "# Output:\n",
    "# [[[1. 1. 1. 1.]\n",
    "#   [1. 1. 1. 1.]\n",
    "#   [1. 1. 1. 1.]]\n",
    "# \n",
    "#  [[1. 1. 1. 1.]\n",
    "#   [1. 1. 1. 1.]\n",
    "#   [1. 1. 1. 1.]]]\n",
    "# A 3D array with dimensions 2x3x4, all set to 1.0.\n",
    "\n",
    "# Create a 2D array of ones with integer type\n",
    "arr_int = np.ones((2, 3), dtype=int)\n",
    "print(arr_int)  \n",
    "# Output:\n",
    "# [[1 1 1]\n",
    "#  [1 1 1]]\n",
    "# A 2D array with 2 rows and 3 columns, all set to 1 (integers).\n"
   ]
  },
  {
   "cell_type": "markdown",
   "id": "42298602-3e43-49f6-85a2-95d92e3e19ea",
   "metadata": {},
   "source": [
    "# Empty()\n",
    "The empty() function in NumPy creates an array without initializing its entries, meaning the array contains whatever values were previously in memory. This can be faster than functions like zeros() or ones() but the contents are unpredictable."
   ]
  },
  {
   "cell_type": "code",
   "execution_count": 6,
   "id": "b9824cb5-0a52-4f1e-b537-80edf6f5bd36",
   "metadata": {},
   "outputs": [
    {
     "name": "stdout",
     "output_type": "stream",
     "text": [
      "[0.0000000e+000 1.1718976e-311 1.1718976e-311 1.1718976e-311]\n"
     ]
    }
   ],
   "source": [
    "# Create a 1D array with 4 uninitialized elements\n",
    "\n",
    "ar_empty = np.empty(4)\n",
    "print(ar_empty)  \n",
    "\n",
    "# Output: [random values, values left uninitialized]\n",
    "# The array contains values that were already in memory. The contents are not predictable.\n"
   ]
  },
  {
   "cell_type": "markdown",
   "id": "bce9cc5a-808f-464a-9480-f73083c7d35f",
   "metadata": {},
   "source": [
    "# Range()\n",
    "The range() function is a built-in Python function used to generate a sequence of numbers. It is commonly used in loops to iterate over a sequence of numbers. NumPy also has similar functionality with np.arange(), but here’s a brief overview of range() in Python:\n",
    "\n"
   ]
  },
  {
   "cell_type": "code",
   "execution_count": null,
   "id": "773cd125-4a40-4326-8b0d-bf1e3b2da14f",
   "metadata": {},
   "outputs": [],
   "source": [
    "# Create a NumPy array with values from 0 to 5\n",
    "ar_rn = np.arange(6)\n",
    "print(ar_rn)  \n",
    "# Output: [0 1 2 3 4 5]\n",
    "# `np.arange(6)` generates an array starting from 0 up to, but not including, 6."
   ]
  },
  {
   "cell_type": "markdown",
   "id": "f74f5253",
   "metadata": {},
   "source": [
    "Create a 1D array with values from 2 to 10 (exclusive), with a step of 3"
   ]
  },
  {
   "cell_type": "code",
   "execution_count": null,
   "id": "be021818-2500-4562-bf64-45d64611ef24",
   "metadata": {},
   "outputs": [],
   "source": [
    "ar_rn = np.arange(2, 10, 3)\n",
    "print(ar_rn)  \n",
    "# Output: [2 5 8]\n",
    "# The array starts at 2, ends before 10, with a step of 3 between values.\n"
   ]
  },
  {
   "cell_type": "markdown",
   "id": "f8e15e78-8aae-4226-bb1f-1cbdde42dbff",
   "metadata": {},
   "source": [
    "# Diagonal element\n",
    "The eye() function in NumPy creates a 2D array with ones on the diagonal and zeros elsewhere. It is often used to create identity matrices.\n",
    "\n",
    "np.eye(n) creates an n x n identity matrix, where n is the number of rows and columns.\n",
    "\n",
    "All the diagonal elements are set to 1, and all off-diagonal elements are set to 0."
   ]
  },
  {
   "cell_type": "code",
   "execution_count": null,
   "id": "dadce2b8-8808-43a8-bf0a-17a5129beebd",
   "metadata": {},
   "outputs": [],
   "source": [
    "# Create a 2D identity matrix of size 3x3\n",
    "identity_matrix = np.eye(3)\n",
    "print(identity_matrix)  \n",
    "# Output:\n",
    "# [[1. 0. 0.]\n",
    "#  [0. 1. 0.]\n",
    "#  [0. 0. 1.]]\n",
    "# An identity matrix where diagonal elements are 1 and off-diagonal elements are 0.\n",
    "\n",
    "# Create a 2D identity matrix of size 4x4\n",
    "identity_matrix_4x4 = np.eye(4)\n",
    "print(identity_matrix_4x4)  \n",
    "# Output:\n",
    "# [[1. 0. 0. 0.]\n",
    "#  [0. 1. 0. 0.]\n",
    "#  [0. 0. 1. 0.]\n",
    "#  [0. 0. 0. 1.]]\n",
    "# A larger identity matrix with 4 rows and 4 columns.\n"
   ]
  },
  {
   "cell_type": "markdown",
   "id": "c60360b6-ed1e-496c-a3d9-39250bbcc432",
   "metadata": {},
   "source": [
    "# linspace()\n",
    "The linspace() function in NumPy generates evenly spaced values over a specified range. It is useful for creating sequences of numbers with a defined number of intervals between them."
   ]
  },
  {
   "cell_type": "code",
   "execution_count": null,
   "id": "352203d6-15c5-4302-96dc-31dc0970cd86",
   "metadata": {},
   "outputs": [],
   "source": [
    "# The np.linspace(0, 10, num=5) function call generates 5 equally spaced values starting from 0 to 10.\n",
    "# Create an array with 5 evenly spaced values between 0 and 10\n",
    "ar_lin = np.linspace(0, 10, num=5)\n",
    "print(ar_lin)  \n",
    "\n",
    "# Output: [ 0.   2.5  5.   7.5 10. ]\n",
    "# Five values evenly spaced from 0 to 10, inclusive."
   ]
  },
  {
   "cell_type": "markdown",
   "id": "c7d0638d-e9c8-4bda-80b3-d92cd4c7ee9c",
   "metadata": {},
   "source": [
    "# rand()\n",
    "The rand() function in NumPy generates an array of random numbers from a uniform distribution over [0, 1). This function is part of the numpy.random module."
   ]
  },
  {
   "cell_type": "code",
   "execution_count": null,
   "id": "bf9418eb-8bd0-46bb-92c6-942b21a21eff",
   "metadata": {},
   "outputs": [],
   "source": [
    "# Create a 1D array with 4 random values between 0 and 1\n",
    "ar_rn = np.random.rand(4)\n",
    "print(ar_rn)  \n",
    "# Output: Array with 4 random values between 0 and 1, e.g., [0.123 0.456 0.789 0.234]\n"
   ]
  },
  {
   "cell_type": "markdown",
   "id": "176d1993",
   "metadata": {},
   "source": [
    "Create a 2D array with shape (4, 5), filled with random values between 0 and 1"
   ]
  },
  {
   "cell_type": "code",
   "execution_count": 16,
   "id": "355a041d-2939-4f94-acb4-dc8cd132d2c5",
   "metadata": {
    "scrolled": true
   },
   "outputs": [
    {
     "name": "stdout",
     "output_type": "stream",
     "text": [
      "[[0.99543489 0.61642869 0.05649785 0.35675116 0.63259332]\n",
      " [0.02361425 0.99392222 0.43812759 0.61544032 0.60775206]\n",
      " [0.23389869 0.82277357 0.34280198 0.008027   0.58129946]\n",
      " [0.10970954 0.75291662 0.67002587 0.80069271 0.19843347]]\n"
     ]
    }
   ],
   "source": [
    "ar_rn = np.random.rand(4, 5)\n",
    "print(ar_rn) \n",
    "# A 2D array with 4 rows and 5 columns, with each element being a random number between 0 and 1."
   ]
  },
  {
   "cell_type": "markdown",
   "id": "27735ab4-0823-4a14-b7a2-610b27057c3f",
   "metadata": {},
   "source": [
    "# randn()\n",
    "The function is used to generate a random value close to zero,they may be return positive or negative numbers. "
   ]
  },
  {
   "cell_type": "code",
   "execution_count": 17,
   "id": "39e6c21d-3150-4f56-8769-12a6578328fb",
   "metadata": {
    "scrolled": true
   },
   "outputs": [
    {
     "name": "stdout",
     "output_type": "stream",
     "text": [
      "[-1.31370147  0.76447443  0.06479253  1.55710285]\n"
     ]
    }
   ],
   "source": [
    "# Create a 1D array with 4 random values from a standard normal distribution\n",
    "ar_rn = np.random.randn(4)\n",
    "print(ar_rn)  \n",
    "# Output: Array with 4 random values drawn from a standard normal distribution (mean 0, variance 1)."
   ]
  },
  {
   "cell_type": "markdown",
   "id": "6a5adf3f-5159-4ebf-8ab4-4df1f0e7dd95",
   "metadata": {},
   "source": [
    "# ranf()\n",
    "The function for doing random sampling in numpy.It retuns an array of specified shape and fill it with random floats in the half open interval [0.0 1.0)."
   ]
  },
  {
   "cell_type": "code",
   "execution_count": 18,
   "id": "c77083ae-ec2b-49dc-a68a-bdbd06221b9b",
   "metadata": {
    "scrolled": true
   },
   "outputs": [
    {
     "name": "stdout",
     "output_type": "stream",
     "text": [
      "[0.00180204 0.97219664 0.46528434 0.68055384]\n"
     ]
    }
   ],
   "source": [
    "# Create a 1D array with 4 random values between 0 and 1\n",
    "ar_rn = np.random.ranf(4)\n",
    "print(ar_rn)  \n",
    "# Output: Array with 4 random numbers between 0 and 1"
   ]
  },
  {
   "cell_type": "markdown",
   "id": "2f612ba6-0bb5-4665-a2f3-f0ca6dc6104a",
   "metadata": {},
   "source": [
    "# randint()\n",
    "The function for used to generate a random number between given range."
   ]
  },
  {
   "cell_type": "code",
   "execution_count": 19,
   "id": "c53b5358-f173-40c7-a901-e139025c488f",
   "metadata": {
    "scrolled": true
   },
   "outputs": [
    {
     "name": "stdout",
     "output_type": "stream",
     "text": [
      "[ 5 34 60  2 95]\n"
     ]
    }
   ],
   "source": [
    "# Create a 1D array with 5 random integers between 1 and 100 (inclusive of 1, exclusive of 100)\n",
    "ar_rn = np.random.randint(1, 100, 5)\n",
    "print(ar_rn)  \n",
    "# Output: Array with 5 random integers from 1 to 99"
   ]
  },
  {
   "cell_type": "markdown",
   "id": "2b09e267-99c9-4e79-996b-4a42b3369a10",
   "metadata": {},
   "source": [
    "# Data types"
   ]
  },
  {
   "cell_type": "code",
   "execution_count": 7,
   "id": "61c0c61d-a815-48db-9852-76a93491d0b3",
   "metadata": {
    "scrolled": true
   },
   "outputs": [
    {
     "name": "stdout",
     "output_type": "stream",
     "text": [
      "Data type: int64\n"
     ]
    }
   ],
   "source": [
    "# Create a NumPy array with integer values\n",
    "var = np.array([1, 2, 3, 4, 12, 16, 18])\n",
    "\n",
    "# Print the data type of the array\n",
    "print(\"Data type:\", var.dtype)  \n",
    "# Output: Data type: int64 (or int32, depending on your system)\n",
    "# The dtype attribute shows the data type of the array elements."
   ]
  },
  {
   "cell_type": "markdown",
   "id": "cf2388ab",
   "metadata": {},
   "source": [
    "other Data types"
   ]
  },
  {
   "cell_type": "code",
   "execution_count": 8,
   "id": "0f15b49f-4b32-4ed7-8901-8c6dc0bf7284",
   "metadata": {
    "scrolled": true
   },
   "outputs": [
    {
     "name": "stdout",
     "output_type": "stream",
     "text": [
      "Data type: float64\n",
      "Data type: <U1\n",
      "Data type: <U21\n",
      "Data type: int8\n",
      "Data type: float32\n",
      "[ 1.  2.  3.  4. 12. 16. 18.]\n"
     ]
    }
   ],
   "source": [
    "# Create a NumPy array with floating-point values\n",
    "var = np.array([1.2, 2.4, 3.5, 4.8])\n",
    "print(\"Data type:\", var.dtype)  \n",
    "# Output: Data type: float64\n",
    "# The array elements are of type float64 by default.\n",
    "\n",
    "# Create a NumPy array with string values\n",
    "var = np.array([\"A\", \"B\", \"C\"])\n",
    "print(\"Data type:\", var.dtype)  \n",
    "# Output: Data type: <U1\n",
    "# The array elements are of type Unicode string with maximum length 1.\n",
    "\n",
    "# Create a NumPy array with mixed data types (integers and strings)\n",
    "var = np.array([\"a\", \"b\", \"c\", \"d\", 1, 2, 3, 4])\n",
    "print(\"Data type:\", var.dtype)  \n",
    "# Output: Data type: <U21\n",
    "# The array elements are of type Unicode string with maximum length 21. NumPy promotes all elements to the most general type (string).\n",
    "\n",
    "# Create a NumPy array with integer values and specify int8 data type\n",
    "var = np.array([1, 2, 3, 4, 12, 16, 18], dtype=np.int8)\n",
    "print(\"Data type:\", var.dtype)  \n",
    "# Output: Data type: int8\n",
    "# The array elements are of type int8, which means each element is stored in 8 bits.\n",
    "\n",
    "# Create a NumPy array with integer values and specify float32 data type\n",
    "var1 = np.array([1, 2, 3, 4, 12, 16, 18], dtype=\"f\")\n",
    "print(\"Data type:\", var1.dtype)  \n",
    "# Output: Data type: float32\n",
    "# The array elements are of type float32, which means each element is stored as a 32-bit floating-point number.\n",
    "print(var1)  \n",
    "# Output: [ 1.  2.  3.  4. 12. 16. 18.]\n",
    "# The integer values are converted to float32.\n"
   ]
  },
  {
   "cell_type": "markdown",
   "id": "2a95e292",
   "metadata": {},
   "source": [
    "Conversion of Data type"
   ]
  },
  {
   "cell_type": "code",
   "execution_count": 9,
   "id": "473333c7-5825-4453-9739-70ef36baaf7b",
   "metadata": {
    "scrolled": true
   },
   "outputs": [
    {
     "name": "stdout",
     "output_type": "stream",
     "text": [
      "[1. 2. 3. 4.]\n",
      "Data type: float32\n",
      "[1 2 3 4]\n",
      "Data type: int64\n",
      "[1 2 3 4]\n",
      "Data type: int64\n"
     ]
    }
   ],
   "source": [
    "# Create a NumPy array with integer values\n",
    "var = np.array([1, 2, 3, 4])\n",
    "\n",
    "# Convert the array to float32 data type\n",
    "new = np.float32(var)\n",
    "print(new)  \n",
    "# Output: [1. 2. 3. 4.]\n",
    "# The array elements are now of type float32.\n",
    "\n",
    "print(\"Data type:\", new.dtype)  \n",
    "# Output: Data type: float32\n",
    "# The dtype attribute shows that the array elements are of type float32.\n",
    "\n",
    "# Convert the float32 array back to integer type\n",
    "new_ = np.int_(new)\n",
    "print(new_)  \n",
    "# Output: [1 2 3 4]\n",
    "# The array elements are now of type int (default integer type, usually int64 or int32).\n",
    "\n",
    "print(\"Data type:\", new_.dtype)  \n",
    "# Output: Data type: int64 (or int32, depending on your system)\n",
    "# The dtype attribute shows that the array elements are now of integer type.\n",
    "\n",
    "print(var)  \n",
    "# Output: [1 2 3 4]\n",
    "# The original array remains as integer type.\n",
    "\n",
    "print(\"Data type:\", var.dtype)  \n",
    "# Output: Data type: int64 (or int32, depending on your system)\n",
    "# The dtype attribute shows that the original array elements are of integer type.\n"
   ]
  },
  {
   "cell_type": "markdown",
   "id": "25e20c19",
   "metadata": {},
   "source": [
    "astype()"
   ]
  },
  {
   "cell_type": "code",
   "execution_count": 10,
   "id": "77e12a62-3c2e-4753-8dce-4ad48eb96522",
   "metadata": {},
   "outputs": [
    {
     "name": "stdout",
     "output_type": "stream",
     "text": [
      "[1 2 3 4]\n",
      "[1. 2. 3. 4.]\n"
     ]
    }
   ],
   "source": [
    "# Create a NumPy array with integer values\n",
    "x = np.array([1, 2, 3, 4])\n",
    "\n",
    "# Convert the array to float data type using astype\n",
    "new_one = x.astype(float)\n",
    "print(x)  \n",
    "# Output: [1 2 3 4]\n",
    "# The original array remains as integer type.\n",
    "\n",
    "print(new_one)  \n",
    "# Output: [1. 2. 3. 4.]\n",
    "# The new array is converted to float type."
   ]
  },
  {
   "cell_type": "markdown",
   "id": "944e6890-096a-4884-80d5-4285f5723064",
   "metadata": {},
   "source": [
    "# Arithmetic operation on ndarray\n"
   ]
  },
  {
   "cell_type": "code",
   "execution_count": 11,
   "id": "68150949-961d-493b-bf68-56ebd8834dba",
   "metadata": {
    "scrolled": true
   },
   "outputs": [
    {
     "name": "stdout",
     "output_type": "stream",
     "text": [
      "Added 2: [4 5 6 7]\n",
      "Subtracted 2: [0 1 2 3]\n",
      "Multiplied by 2: [ 4  6  8 10]\n",
      "Divided by 2: [1.  1.5 2.  2.5]\n",
      "Modulo 2: [0 1 0 1]\n",
      "Squared: [ 4  9 16 25]\n",
      "Reciprocal: [0.5        0.33333333 0.25       0.2       ]\n"
     ]
    }
   ],
   "source": [
    "# Create a 1D array with numbers\n",
    "var = np.array([2, 3, 4, 5])\n",
    "\n",
    "# Add 2 to each number in the array\n",
    "varadd = var + 2\n",
    "print(\"Added 2:\", varadd)  \n",
    "\n",
    "# Subtract 2 from each number in the array\n",
    "varsub = var - 2\n",
    "print(\"Subtracted 2:\", varsub)  \n",
    "\n",
    "# Multiply each number in the array by 2\n",
    "varmul = var * 2\n",
    "print(\"Multiplied by 2:\", varmul)  \n",
    "\n",
    "\n",
    "# Divide each number in the array by 2\n",
    "vardiv = var / 2\n",
    "print(\"Divided by 2:\", vardiv)  \n",
    "\n",
    "# Find the remainder when each number in the array is divided by 2\n",
    "varmod = var % 2\n",
    "print(\"Modulo 2:\", varmod)  \n",
    "\n",
    "# Square each number in the array\n",
    "varpow = var ** 2\n",
    "print(\"Squared:\", varpow)  \n",
    "\n",
    "\n",
    "# Divide 1 by each number in the array\n",
    "varrep = 1 / var\n",
    "print(\"Reciprocal:\", varrep)  \n"
   ]
  },
  {
   "cell_type": "markdown",
   "id": "302e6617",
   "metadata": {},
   "source": [
    "For two arrays"
   ]
  },
  {
   "cell_type": "code",
   "execution_count": 25,
   "id": "378e2aae-a61e-4aec-bb1b-b7cdd371427c",
   "metadata": {
    "scrolled": true
   },
   "outputs": [
    {
     "name": "stdout",
     "output_type": "stream",
     "text": [
      "[ 8 10 12 14]\n",
      "[-4 -4 -4 -4]\n",
      "[12 21 32 45]\n",
      "[0.33333333 0.42857143 0.5        0.55555556]\n",
      "[2 3 4 5]\n",
      "[     64    2187   65536 1953125]\n",
      "[0.16666667 0.14285714 0.125      0.11111111]\n"
     ]
    }
   ],
   "source": [
    "var1=np.array([2,3,4,5])\n",
    "var2=np.array([6,7,8,9])\n",
    "varadd=var1 + var2\n",
    "varsub=var1- var2\n",
    "varmul=var1 * var2\n",
    "vardiv=var1 / var2\n",
    "varmod=var1 % var2\n",
    "varpow=var1 ** var2\n",
    "varrep=1 / var2\n",
    "print(varadd)\n",
    "print(varsub)\n",
    "print(varmul)\n",
    "print(vardiv)\n",
    "print(varmod)\n",
    "print(varpow)\n",
    "print(varrep)"
   ]
  },
  {
   "cell_type": "markdown",
   "id": "f63ab78b",
   "metadata": {},
   "source": [
    "FUNCTIONS FOR ARITHMETIC OPERATION"
   ]
  },
  {
   "cell_type": "code",
   "execution_count": 26,
   "id": "d6b09ce1-7d3e-4450-9c33-4d7e328b950b",
   "metadata": {
    "scrolled": true
   },
   "outputs": [
    {
     "name": "stdout",
     "output_type": "stream",
     "text": [
      "[ 8 10 12 14]\n",
      "[-4 -4 -4 -4]\n",
      "[12 21 32 45]\n",
      "[0.33333333 0.42857143 0.5        0.55555556]\n",
      "[2 3 4 5]\n",
      "[     64    2187   65536 1953125]\n",
      "[0 0 0 0]\n"
     ]
    }
   ],
   "source": [
    "var1=np.array([2,3,4,5])\n",
    "var2=np.array([6,7,8,9])\n",
    "varadd=np.add(var1,var2)\n",
    "varsub=np.subtract(var1,var2)\n",
    "varmul=np.multiply(var1,var2)\n",
    "vardiv=np.divide(var1,var2)\n",
    "varmod=np.mod(var1,var2)\n",
    "varpow=np.power(var1,var2)\n",
    "varrep=np.reciprocal(var2)\n",
    "print(varadd)\n",
    "print(varsub)\n",
    "print(varmul)\n",
    "print(vardiv)\n",
    "print(varmod)\n",
    "print(varpow)\n",
    "print(varrep)"
   ]
  },
  {
   "cell_type": "markdown",
   "id": "1d095a4d-761a-456e-9a23-963f24589ecc",
   "metadata": {},
   "source": [
    "#  Arithmetic Functions\n",
    "np.min(var): Finds the smallest number in the array.\n",
    "\n",
    "np.argmin(var): Finds the position (index) of the smallest number in the array.\n",
    "\n",
    "np.max(var): Finds the largest number in the array.\n",
    "\n",
    "np.argmax(var): Finds the position (index) of the largest number in the array.\n",
    "\n",
    "np.sqrt(var): Computes the square root of each number in the array.\n",
    "\n",
    "\n",
    "\n",
    "\n",
    "\n",
    "\n"
   ]
  },
  {
   "cell_type": "code",
   "execution_count": 12,
   "id": "7215493e-9ac0-45c7-b0f6-1c9f7255a168",
   "metadata": {
    "scrolled": true
   },
   "outputs": [
    {
     "name": "stdout",
     "output_type": "stream",
     "text": [
      "Min: 4 2\n",
      "Max: 81 3\n",
      "Sqrt: [7. 3. 2. 9.]\n"
     ]
    }
   ],
   "source": [
    "# Create a 1D array with numbers\n",
    "var = np.array([49, 9, 4, 81])\n",
    "\n",
    "# Find the minimum value in the array and its index\n",
    "print(\"Min:\", np.min(var), np.argmin(var))  \n",
    "\n",
    "# Find the maximum value in the array and its index\n",
    "print(\"Max:\", np.max(var), np.argmax(var))  \n",
    "\n",
    "# Calculate the square root of each number in the array\n",
    "print(\"Sqrt:\", np.sqrt(var))  \n"
   ]
  },
  {
   "cell_type": "markdown",
   "id": "891f7564",
   "metadata": {},
   "source": [
    "max() or min()"
   ]
  },
  {
   "cell_type": "code",
   "execution_count": 13,
   "id": "9d5c64d1-3bb0-4e7d-82b9-8dcb8145f1cd",
   "metadata": {
    "scrolled": true
   },
   "outputs": [
    {
     "name": "stdout",
     "output_type": "stream",
     "text": [
      "Max along rows: [7 9]\n",
      "Min along columns: [1 6 4 5]\n"
     ]
    }
   ],
   "source": [
    "# Create a 2D array with numbers\n",
    "var1 = np.array([[1, 7, 4, 5], [7, 6, 9, 8]])\n",
    "\n",
    "# Find the maximum value along each row (axis=1)\n",
    "print(\"Max along rows:\", np.max(var1, axis=1))  \n",
    "\n",
    "# Find the minimum value along each column (axis=0)\n",
    "print(\"Min along columns:\", np.min(var1, axis=0))  "
   ]
  },
  {
   "cell_type": "markdown",
   "id": "255abe8a",
   "metadata": {},
   "source": [
    "sin() And cosin()"
   ]
  },
  {
   "cell_type": "code",
   "execution_count": 14,
   "id": "71272de2-40a3-443a-a82e-8a0594e5d30e",
   "metadata": {
    "scrolled": true
   },
   "outputs": [
    {
     "name": "stdout",
     "output_type": "stream",
     "text": [
      "Sine: [ 0.84147098  0.90929743  0.14112001 -0.7568025 ]\n",
      "Cosine: [ 0.54030231 -0.41614684 -0.9899925  -0.65364362]\n"
     ]
    }
   ],
   "source": [
    "# Create a 1D array with numbers\n",
    "var = np.array([1, 2, 3, 4])\n",
    "\n",
    "# Calculate the sine of each number in the array\n",
    "print(\"Sine:\", np.sin(var))  \n",
    "\n",
    "# Calculate the cosine of each number in the array\n",
    "print(\"Cosine:\", np.cos(var))  \n"
   ]
  },
  {
   "cell_type": "markdown",
   "id": "84f80488",
   "metadata": {},
   "source": [
    "cumsum()"
   ]
  },
  {
   "cell_type": "code",
   "execution_count": 15,
   "id": "9278ec0f-f475-4214-b6ca-ba5b2039a3c2",
   "metadata": {
    "scrolled": true
   },
   "outputs": [
    {
     "name": "stdout",
     "output_type": "stream",
     "text": [
      "Cumulative sum: [ 1  3  6 10]\n"
     ]
    }
   ],
   "source": [
    "# Create a 1D array with numbers\n",
    "var = np.array([1, 2, 3, 4])\n",
    "\n",
    "# Calculate the cumulative sum of the array\n",
    "print(\"Cumulative sum:\", np.cumsum(var))  \n",
    "\n",
    "# This calculates the sum of the elements as you go. \n",
    "# The first number is 1, the second is 1+2=3, the third is 1+2+3=6, and the fourth is 1+2+3+4=10."
   ]
  },
  {
   "cell_type": "markdown",
   "id": "a3c04cc6-6321-4502-89ca-03cc07fdf2de",
   "metadata": {},
   "source": [
    "# Shape"
   ]
  },
  {
   "cell_type": "code",
   "execution_count": 17,
   "id": "51402e4a-55de-4009-9e63-d6790d105f59",
   "metadata": {
    "scrolled": true
   },
   "outputs": [
    {
     "name": "stdout",
     "output_type": "stream",
     "text": [
      "[[1 3 4]\n",
      " [2 3 4]]\n",
      "Shape: (2, 3)\n"
     ]
    }
   ],
   "source": [
    "# Create a 2D array with numbers\n",
    "var = np.array([[1, 3, 4], [2, 3, 4]])\n",
    "\n",
    "# Print the 2D array\n",
    "print(var)  \n",
    "# This displays the 2D array with 2 rows and 3 columns.\n",
    "\n",
    "# Print the shape of the 2D array\n",
    "print(\"Shape:\", var.shape)  \n",
    "# This shows that the array has 2 rows and 3 columns."
   ]
  },
  {
   "cell_type": "markdown",
   "id": "fc959654",
   "metadata": {},
   "source": [
    "for multidimension"
   ]
  },
  {
   "cell_type": "code",
   "execution_count": 32,
   "id": "af9d791c-2659-4375-b9c9-89f9a610e17e",
   "metadata": {
    "scrolled": true
   },
   "outputs": [
    {
     "name": "stdout",
     "output_type": "stream",
     "text": [
      "[[[[[1 3 4]]]]]\n",
      "Shape: (1, 1, 1, 1, 3)\n"
     ]
    }
   ],
   "source": [
    "# Create a 1D array with numbers and specify the minimum number of dimensions\n",
    "var = np.array([1, 3, 4], ndmin=5)\n",
    "\n",
    "# Print the array\n",
    "print(var)  \n",
    "# Output:\n",
    "# [[[[[1 3 4]]]]]\n",
    "# The array is displayed with extra dimensions. The original array with 3 elements is now inside 5 dimensions.\n",
    "\n",
    "# Print the shape of the array\n",
    "print(\"Shape:\", var.shape)  \n",
    "# Output: (1, 1, 1, 1, 3)\n",
    "# This shows that the array has 5 dimensions. The last dimension has 3 elements, and the other dimensions have size 1."
   ]
  },
  {
   "cell_type": "markdown",
   "id": "c3bad3c2-f1f6-472f-814f-3ceedb08f1dc",
   "metadata": {},
   "source": [
    "# Reshape"
   ]
  },
  {
   "cell_type": "code",
   "execution_count": 18,
   "id": "d7e41e95-b6f5-46ce-9c7b-eb8f2efc77a4",
   "metadata": {
    "scrolled": true
   },
   "outputs": [
    {
     "name": "stdout",
     "output_type": "stream",
     "text": [
      "Original array:\n",
      "[1 2 3 4 5 6]\n",
      "\n",
      "Reshaped array:\n",
      "[[1 2]\n",
      " [3 4]\n",
      " [5 6]]\n"
     ]
    }
   ],
   "source": [
    "# Create a 1D array with numbers\n",
    "var = np.array([1, 2, 3, 4, 5, 6])\n",
    "\n",
    "# Print the original 1D array\n",
    "print(\"Original array:\")\n",
    "print(var)  \n",
    "# This displays the 1D array with 6 elements.\n",
    "\n",
    "# Reshape the 1D array into a 2D array with 3 rows and 2 columns\n",
    "x = var.reshape(3, 2)\n",
    "\n",
    "# Print the reshaped 2D array\n",
    "print(\"\\nReshaped array:\")\n",
    "print(x)  \n",
    "# This shows the 1D array reshaped into a 2D array with 3 rows and 2 columns."
   ]
  },
  {
   "cell_type": "markdown",
   "id": "625dc826",
   "metadata": {},
   "source": [
    " Print the reshaped 1D array"
   ]
  },
  {
   "cell_type": "code",
   "execution_count": 19,
   "id": "8811356b-6636-482c-b492-ba0696481945",
   "metadata": {
    "scrolled": true
   },
   "outputs": [
    {
     "name": "stdout",
     "output_type": "stream",
     "text": [
      "Original array:\n",
      "[ 1  2  3  4  5  6  7  8  9 10 11 12]\n",
      "\n",
      "Reshaped 3D array:\n",
      "[[[ 1  2]\n",
      "  [ 3  4]]\n",
      "\n",
      " [[ 5  6]\n",
      "  [ 7  8]]\n",
      "\n",
      " [[ 9 10]\n",
      "  [11 12]]]\n",
      "\n",
      "Reshaped back to 1D array:\n",
      "[ 1  2  3  4  5  6  7  8  9 10 11 12]\n"
     ]
    }
   ],
   "source": [
    "# Create a 1D array with numbers\n",
    "var = np.array([1, 2, 3, 4, 5, 6, 7, 8, 9, 10, 11, 12])\n",
    "\n",
    "# Print the original 1D array\n",
    "print(\"Original array:\")\n",
    "print(var)  \n",
    "\n",
    "# Reshape the 1D array into a 3D array with 3 blocks, each block having 2 rows and 2 columns\n",
    "var3 = var.reshape(3, 2, 2)\n",
    "\n",
    "# Print the reshaped 3D array\n",
    "print(\"\\nReshaped 3D array:\")\n",
    "print(var3)  \n",
    "\n",
    "# Reshape the 3D array back into a 1D array\n",
    "one = var3.reshape(-1)\n",
    "\n",
    "# Print the reshaped 1D array\n",
    "print(\"\\nReshaped back to 1D array:\")\n",
    "print(one)  \n"
   ]
  },
  {
   "cell_type": "markdown",
   "id": "1fe685ab-2191-45b7-940d-3413d2c65f52",
   "metadata": {},
   "source": [
    "# Broadcasting Numpy\n",
    "Broadcasting in NumPy is a powerful feature that allows you to perform operations on arrays of different shapes. It automatically adjusts the shapes of arrays to make them compatible for element-wise operations."
   ]
  },
  {
   "cell_type": "code",
   "execution_count": 20,
   "id": "f7f09fb1-cfd5-43fd-939c-933a063eebca",
   "metadata": {
    "scrolled": true
   },
   "outputs": [
    {
     "name": "stdout",
     "output_type": "stream",
     "text": [
      "Shape of var1: (3,)\n",
      "Shape of var2: (3, 1)\n",
      "Result of var1 + var2:\n",
      "[[2 3 4]\n",
      " [3 4 5]\n",
      " [4 5 6]]\n"
     ]
    }
   ],
   "source": [
    "# Create a 1D array with numbers\n",
    "var1 = np.array([1, 2, 3])\n",
    "print(\"Shape of var1:\", var1.shape)  \n",
    "# var1 is a 1D array with 3 elements.\n",
    "\n",
    "# Create a 2D array with numbers\n",
    "var2 = np.array([[1], [2], [3]])\n",
    "print(\"Shape of var2:\", var2.shape)  \n",
    "# var2 is a 2D array with 3 rows and 1 column.\n",
    "\n",
    "# Add the 1D array to the 2D array using broadcasting\n",
    "print(\"Result of var1 + var2:\")\n",
    "print(var1 + var2)  \n",
    "# Broadcasting aligns var1 and var2 for element-wise addition. \n",
    "# var1 is treated as a 2D array with shape (1, 3), and var2 is expanded to match this shape, allowing the addition.\n"
   ]
  },
  {
   "cell_type": "markdown",
   "id": "52c645b5-c321-4f20-b3ab-02b1897bd0a4",
   "metadata": {},
   "source": [
    "# Indexing"
   ]
  },
  {
   "cell_type": "code",
   "execution_count": null,
   "id": "d219bec7-fdb4-4512-8a48-2b82fae2af39",
   "metadata": {},
   "outputs": [],
   "source": [
    "# Create a 1D array with numbers\n",
    "var = np.array([13, 4, 5, 12])\n",
    "\n",
    "# Access the element at index 2\n",
    "print(var[2])  \n",
    "# Output: 5\n",
    "# Index 2 refers to the third element in the array (indexing starts at 0).\n",
    "\n",
    "# Access the element at index -2 (second to last element)\n",
    "print(var[-2])  \n",
    "# Output: 5\n",
    "# Negative indexing counts from the end of the array. -1 is the last element, -2 is the second-to-last.\n"
   ]
  },
  {
   "cell_type": "markdown",
   "id": "9d3fa37e",
   "metadata": {},
   "source": [
    "for 2D array"
   ]
  },
  {
   "cell_type": "code",
   "execution_count": null,
   "id": "386bb8a3-46c7-4b0b-8d5b-935120103898",
   "metadata": {},
   "outputs": [],
   "source": [
    "# Create a 2D array (matrix) with numbers\n",
    "var2 = np.array([[12, 13], [15, 8]])\n",
    "\n",
    "# Print the entire 2D array\n",
    "print(var2)  \n",
    "# Output: \n",
    "# [[12 13]\n",
    "#  [15  8]]\n",
    "# This displays the 2D array with 2 rows and 2 columns.\n",
    "\n",
    "# Access the element at row 0, column 1\n",
    "print(var2[0, 1])  \n",
    "# Output: 13\n",
    "# The first index (0) refers to the first row, and the second index (1) refers to the second column of that row.\n"
   ]
  },
  {
   "cell_type": "markdown",
   "id": "80e6c2d6",
   "metadata": {},
   "source": [
    "for 3D array"
   ]
  },
  {
   "cell_type": "code",
   "execution_count": null,
   "id": "589cadf4-948d-484d-a775-b991b315fcdc",
   "metadata": {},
   "outputs": [],
   "source": [
    "# Create a 3D array with numbers\n",
    "var3 = np.array([[[12, 13], [15, 8]], [[1, 2], [2, 3]]])\n",
    "\n",
    "# Print the entire 3D array\n",
    "print(var3)  \n",
    "# Output:\n",
    "# [[[12 13]\n",
    "#   [15  8]]\n",
    "# \n",
    "#  [[ 1  2]\n",
    "#   [ 2  3]]]\n",
    "# This displays the 3D array with two 2D arrays inside it.\n",
    "\n",
    "# Print the number of dimensions of the 3D array\n",
    "print(\"Number of dimensions:\", var3.ndim)  \n",
    "# Output: 3\n",
    "# `ndim` gives the number of dimensions in the array. Here, it’s a 3D array.\n",
    "\n",
    "print()\n",
    "\n",
    "# Access the element at the first 2D array, second row, first column\n",
    "print(var3[0, 1, 0])  \n",
    "# Output: 15\n",
    "# The first index (0) refers to the first 2D array, the second index (1) refers to the second row of that 2D array, and the third index (0) refers to the first column of that row.\n"
   ]
  },
  {
   "cell_type": "markdown",
   "id": "4c763923-739f-4de9-b282-be2dcff08ae0",
   "metadata": {},
   "source": [
    "# Slicing"
   ]
  },
  {
   "cell_type": "code",
   "execution_count": 39,
   "id": "ac30efdd-128a-4431-93a2-14bc307e1285",
   "metadata": {
    "scrolled": true
   },
   "outputs": [
    {
     "name": "stdout",
     "output_type": "stream",
     "text": [
      "[ 11  32  33  44  54 466  77  88]\n",
      "[ 54 466  77  88]\n",
      "[11 32 33]\n",
      "[11 33 54 77]\n"
     ]
    }
   ],
   "source": [
    "#1D\n",
    "var=np.array([11,32,33,44,54,466,77,88])\n",
    "print(var)\n",
    "print(var[4:])\n",
    "print(var[:-5])#negative indexing'\n",
    "print(var[::2])#step"
   ]
  },
  {
   "cell_type": "markdown",
   "id": "97412aa8",
   "metadata": {},
   "source": [
    "one another example"
   ]
  },
  {
   "cell_type": "code",
   "execution_count": null,
   "id": "ab61327a-7d0b-4374-b797-5ee77050eb4f",
   "metadata": {},
   "outputs": [],
   "source": [
    "# Create a 1D array with numbers\n",
    "var = np.array([11, 32, 33, 44, 54, 466, 77, 88])\n",
    "\n",
    "# Print the entire 1D array\n",
    "print(var)  \n",
    "# Output: [ 11  32  33  44  54 466  77  88]\n",
    "# This displays the full 1D array.\n",
    "\n",
    "# Print elements from index 4 to the end of the array\n",
    "print(var[4:])  \n",
    "# Output: [ 54 466  77  88]\n",
    "# This selects elements starting from index 4 to the end of the array.\n",
    "\n",
    "# Print elements from the beginning of the array up to index -5 (not including -5)\n",
    "print(var[:-5])  \n",
    "# Output: [11 32 33 44]\n",
    "# This selects elements from the start of the array up to the fifth element from the end.\n",
    "\n",
    "# Print every second element of the array\n",
    "print(var[::2])  \n",
    "# Output: [11 33 54 77]\n",
    "# This selects every second element from the array. The step size is 2.\n"
   ]
  },
  {
   "cell_type": "markdown",
   "id": "aacb0f51-3513-41b6-bc4f-adddf657b12a",
   "metadata": {},
   "source": [
    "# Iterating numpy array\n"
   ]
  },
  {
   "cell_type": "code",
   "execution_count": 22,
   "id": "67cf86a8-dcae-4f28-b151-dbf0040ba2b0",
   "metadata": {
    "scrolled": true
   },
   "outputs": [
    {
     "name": "stdout",
     "output_type": "stream",
     "text": [
      "[  1   2   4   6  33 556  77  22]\n",
      "1\n",
      "2\n",
      "4\n",
      "6\n",
      "33\n",
      "556\n",
      "77\n",
      "22\n"
     ]
    }
   ],
   "source": [
    "# Create a 1D array with numbers\n",
    "var = np.array([1, 2, 4, 6, 33, 556, 77, 22])\n",
    "\n",
    "# Print the entire 1D array\n",
    "print(var)  \n",
    "\n",
    "# Iterate over each element in the array and print it\n",
    "for i in var:\n",
    "    print(i)  "
   ]
  },
  {
   "cell_type": "markdown",
   "id": "0f16b23a",
   "metadata": {},
   "source": [
    "for 2D Array"
   ]
  },
  {
   "cell_type": "code",
   "execution_count": 24,
   "id": "cb27abda-d8b4-4e3d-84ae-b918bd564c54",
   "metadata": {},
   "outputs": [
    {
     "name": "stdout",
     "output_type": "stream",
     "text": [
      "[[ 1  2  3  4]\n",
      " [12 11 13 14]]\n",
      "1\n",
      "2\n",
      "3\n",
      "4\n",
      "12\n",
      "11\n",
      "13\n",
      "14\n"
     ]
    }
   ],
   "source": [
    "# Create a 2D array (matrix) with numbers\n",
    "var2 = np.array([[1, 2, 3, 4], [12, 11, 13, 14]])\n",
    "\n",
    "# Print the entire 2D array\n",
    "print(var2)  \n",
    "\n",
    "\n",
    "# Iterate over each row in the 2D array\n",
    "for i in var2:\n",
    "    # Iterate over each element in the row\n",
    "    for j in i:\n",
    "        print(j) \n"
   ]
  },
  {
   "cell_type": "markdown",
   "id": "14aa3815",
   "metadata": {},
   "source": [
    "for 3D Array"
   ]
  },
  {
   "cell_type": "code",
   "execution_count": null,
   "id": "0998eb2a-441b-42cc-9d0e-ebd774339165",
   "metadata": {},
   "outputs": [],
   "source": [
    "# Create a 3D array with numbers\n",
    "var3 = np.array([[[1, 2, 3, 4], [12, 11, 13, 14]]])\n",
    "\n",
    "# Print the entire 3D array\n",
    "print(var3)  \n",
    "# Output:\n",
    "# [[[ 1  2  3  4]\n",
    "#   [12 11 13 14]]]\n",
    "# This displays the full 3D array with one 2D array inside.\n",
    "\n",
    "# Iterate over each element in the 3D array with its index\n",
    "for i, d in np.ndenumerate(var3):\n",
    "    print(i, d)  \n",
    "# Output:\n",
    "# (0, 0, 0) 1\n",
    "# (0, 0, 1) 2\n",
    "# (0, 0, 2) 3\n",
    "# (0, 0, 3) 4\n",
    "# (0, 1, 0) 12\n",
    "# (0, 1, 1) 11\n",
    "# (0, 1, 2) 13\n",
    "# (0, 1, 3) 14\n",
    "# Each element in the 3D array is printed with its index tuple and value.\n"
   ]
  },
  {
   "cell_type": "markdown",
   "id": "5b8b46fe-3396-4de4-abb8-363e40b3dadf",
   "metadata": {},
   "source": [
    "# Copy vs View"
   ]
  },
  {
   "cell_type": "code",
   "execution_count": 26,
   "id": "34c1beae-0af5-43d0-a5de-a52d86e36f45",
   "metadata": {
    "scrolled": true
   },
   "outputs": [
    {
     "name": "stdout",
     "output_type": "stream",
     "text": [
      "var: [ 1  2 50  4]\n",
      "copy: [1 2 3 4]\n"
     ]
    }
   ],
   "source": [
    "# Create a 1D array with numbers\n",
    "var = np.array([1, 2, 3, 4])\n",
    "\n",
    "# Create a copy of the array\n",
    "cop = var.copy()\n",
    "\n",
    "# Modify the original array\n",
    "var[2] = 50\n",
    "\n",
    "# Print the modified original array\n",
    "print(\"var:\", var)  \n",
    "# This shows the original array with the element at index 2 changed to 50.\n",
    "\n",
    "# Print the copied array\n",
    "print(\"copy:\", cop)  \n",
    "# The copied array remains unchanged because `cop` is a separate copy of the original array.\n"
   ]
  },
  {
   "cell_type": "markdown",
   "id": "8088037e-d327-4d46-8719-78032eb38d86",
   "metadata": {},
   "source": [
    "# Join array"
   ]
  },
  {
   "cell_type": "code",
   "execution_count": 47,
   "id": "db2fee64-ce3c-4d5a-8758-0f29730492dc",
   "metadata": {
    "scrolled": true
   },
   "outputs": [
    {
     "name": "stdout",
     "output_type": "stream",
     "text": [
      "[1 2 3 4 5 6 7 8]\n"
     ]
    }
   ],
   "source": [
    "# Create two 1D arrays with numbers\n",
    "var = np.array([1, 2, 3, 4])\n",
    "var1 = np.array([5, 6, 7, 8])\n",
    "\n",
    "# Concatenate the two arrays\n",
    "join = np.concatenate((var, var1))\n",
    "\n",
    "# Print the concatenated array\n",
    "print(join)  \n",
    "# This shows the combined array with elements from `var` followed by elements from `var1`.\n"
   ]
  },
  {
   "cell_type": "markdown",
   "id": "7873b61f",
   "metadata": {},
   "source": [
    "for 2D arrays"
   ]
  },
  {
   "cell_type": "code",
   "execution_count": 27,
   "id": "5a534899-76ae-45c8-b031-cdbc4ed34e35",
   "metadata": {
    "scrolled": true
   },
   "outputs": [
    {
     "name": "stdout",
     "output_type": "stream",
     "text": [
      "[[1 2 5 6]\n",
      " [3 4 7 8]]\n",
      "[[1 2]\n",
      " [3 4]\n",
      " [5 6]\n",
      " [7 8]]\n"
     ]
    }
   ],
   "source": [
    "# Create two 2D arrays (matrices)\n",
    "vr = np.array([[1, 2], [3, 4]])\n",
    "vr1 = np.array([[5, 6], [7, 8]])\n",
    "\n",
    "# Concatenate the two 2D arrays along the columns (axis=1)\n",
    "join = np.concatenate((vr, vr1), axis=1)\n",
    "\n",
    "# Concatenate the two 2D arrays along the rows (axis=0)\n",
    "join_ = np.concatenate((vr, vr1), axis=0)\n",
    "\n",
    "# Print the concatenated array along columns\n",
    "print(join)  \n",
    "# The two matrices are combined side-by-side (columns).\n",
    "\n",
    "# Print the concatenated array along rows\n",
    "print(join_)  \n",
    "# The two matrices are combined one on top of the other (rows).\n"
   ]
  },
  {
   "cell_type": "markdown",
   "id": "9fd44a5e",
   "metadata": {},
   "source": [
    "Stack the two arrays"
   ]
  },
  {
   "cell_type": "code",
   "execution_count": null,
   "id": "01ef7a71-df0c-4b8e-b434-00b069e9422d",
   "metadata": {
    "scrolled": true
   },
   "outputs": [],
   "source": [
    "# Create two 1D arrays with numbers\n",
    "var = np.array([1, 2, 3, 4])\n",
    "var1 = np.array([5, 6, 7, 8])\n",
    "\n",
    "# Stack the two arrays along the columns (axis=1)\n",
    "join = np.stack((var, var1), axis=1)\n",
    "# Output:\n",
    "# [[1 5]\n",
    "#  [2 6]\n",
    "#  [3 7]\n",
    "#  [4 8]]\n",
    "# This creates a 2D array where `var` and `var1` are stacked side by side as columns.\n",
    "\n",
    "# Horizontally stack the two arrays into a single row\n",
    "join1 = np.hstack((var, var1))\n",
    "# Output: [1 2 3 4 5 6 7 8]\n",
    "# This concatenates the arrays along the row axis, creating a single long row.\n",
    "\n",
    "# Vertically stack the two arrays into a single column\n",
    "join2 = np.vstack((var, var1))\n",
    "# Output:\n",
    "# [[1 2 3 4]\n",
    "#  [5 6 7 8]]\n",
    "# This stacks the arrays on top of each other, creating a taller 2D array.\n",
    "\n",
    "# Stack the two arrays along the depth (height) dimension\n",
    "join3 = np.dstack((var, var1))\n",
    "# Output:\n",
    "# [[[1 5]]\n",
    "#  [[2 6]]\n",
    "#  [[3 7]]\n",
    "#  [[4 8]]]\n",
    "# This creates a 3D array where each element in `var` and `var1` forms a depth layer.\n",
    "\n",
    "# Print the results\n",
    "print(join)\n",
    "print()\n",
    "print(join1)\n",
    "print()\n",
    "print(join2)\n",
    "print()\n",
    "print(join3)\n"
   ]
  },
  {
   "cell_type": "markdown",
   "id": "73f5418e-f041-48f9-b6e6-77097d9aba9e",
   "metadata": {},
   "source": [
    "# Split array\n",
    "\n"
   ]
  },
  {
   "cell_type": "code",
   "execution_count": 28,
   "id": "e6b72943-4dbc-4bb9-af07-4edd4c18f91c",
   "metadata": {
    "scrolled": true
   },
   "outputs": [
    {
     "name": "stdout",
     "output_type": "stream",
     "text": [
      "[1 2 3 4 5 6]\n",
      "[array([1, 2]), array([3, 4]), array([5, 6])]\n"
     ]
    }
   ],
   "source": [
    "# Create a 1D array with numbers\n",
    "var = np.array([1, 2, 3, 4, 5, 6])\n",
    "\n",
    "# Print the original array\n",
    "print(var)  \n",
    "\n",
    "# Split the array into 3 sub-arrays\n",
    "ar = np.array_split(var, 3)\n",
    "\n",
    "# Print the list of sub-arrays\n",
    "print(ar)  \n",
    "# This shows the array split into 3 sub-arrays. The elements are divided as evenly as possible."
   ]
  },
  {
   "cell_type": "markdown",
   "id": "cafe6178",
   "metadata": {},
   "source": [
    "for 2D Array"
   ]
  },
  {
   "cell_type": "code",
   "execution_count": 29,
   "id": "6385a044-143b-4ef6-add9-ac777fe90fb9",
   "metadata": {
    "scrolled": true
   },
   "outputs": [
    {
     "name": "stdout",
     "output_type": "stream",
     "text": [
      "[[1 2]\n",
      " [3 4]\n",
      " [5 6]]\n",
      "[array([[1, 2]]), array([[3, 4]]), array([[5, 6]])]\n",
      "\n",
      "[array([[1],\n",
      "       [3],\n",
      "       [5]]), array([[2],\n",
      "       [4],\n",
      "       [6]]), array([], shape=(3, 0), dtype=int64)]\n"
     ]
    }
   ],
   "source": [
    "# Create a 2D array (matrix)\n",
    "var = np.array([[1, 2], [3, 4], [5, 6]])\n",
    "\n",
    "# Print the original 2D array\n",
    "print(var)  \n",
    "\n",
    "# Split the 2D array into 3 sub-arrays along the default axis (axis=0, rows)\n",
    "ar = np.array_split(var, 3)\n",
    "\n",
    "# Split the 2D array into 3 sub-arrays along axis=1 (columns)\n",
    "ar1 = np.array_split(var, 3, axis=1)\n",
    "# Print the results\n",
    "print(ar)\n",
    "print()\n",
    "print(ar1)\n"
   ]
  },
  {
   "cell_type": "markdown",
   "id": "f7bfc603-ae12-4af7-b961-3e6862314f6a",
   "metadata": {},
   "source": [
    "# Searching\n"
   ]
  },
  {
   "cell_type": "markdown",
   "id": "ad8c6e59-67f3-4703-afd9-be5983dde9dd",
   "metadata": {},
   "source": [
    "WHERE()"
   ]
  },
  {
   "cell_type": "code",
   "execution_count": 31,
   "id": "f526db14-48a2-4ae1-987f-4b710102768b",
   "metadata": {
    "scrolled": true
   },
   "outputs": [
    {
     "name": "stdout",
     "output_type": "stream",
     "text": [
      "[[1 2]\n",
      " [3 4]\n",
      " [5 6]]\n",
      "[array([[1, 2]]), array([[3, 4]]), array([[5, 6]])]\n",
      "\n",
      "[array([[1],\n",
      "       [3],\n",
      "       [5]]), array([[2],\n",
      "       [4],\n",
      "       [6]]), array([], shape=(3, 0), dtype=int64)]\n"
     ]
    }
   ],
   "source": [
    "# Create a 2D array (matrix)\n",
    "var = np.array([[1, 2], [3, 4], [5, 6]])\n",
    "\n",
    "# Print the original 2D array\n",
    "print(var)  \n",
    "\n",
    "# Split the 2D array into 3 sub-arrays along the default axis (axis=0, rows)\n",
    "ar = np.array_split(var, 3)\n",
    "\n",
    "# Split the 2D array into 3 sub-arrays along axis=1 (columns)\n",
    "ar1 = np.array_split(var, 3, axis=1)\n",
    "\n",
    "# Print the results\n",
    "print(ar)\n",
    "print()\n",
    "print(ar1)\n"
   ]
  },
  {
   "cell_type": "markdown",
   "id": "c8bea5c7-833b-4e92-980b-a56b2c72f2c3",
   "metadata": {},
   "source": [
    "# Searchsorted()"
   ]
  },
  {
   "cell_type": "code",
   "execution_count": null,
   "id": "9a9b2cee-8186-4729-ad73-81aa538bf7cd",
   "metadata": {},
   "outputs": [],
   "source": [
    "# Create a 1D sorted array\n",
    "var1 = np.array([1, 2, 3, 4, 6, 7])\n",
    "\n",
    "# Find the index where the value 5 should be inserted to keep the array sorted\n",
    "x = np.searchsorted(var1, 5)  \n",
    "# Output: 4\n",
    "# The index `4` is where `5` would be inserted to maintain the order of the array. \n",
    "# `5` is greater than `4` and less than `6`, so it would go at index 4.\n",
    "\n",
    "# Alternative: Find the index where the value 5 should be inserted if elements greater than `5` are included\n",
    "# x = np.searchsorted(var1, 5, side=\"right\")  \n",
    "# Output: 4\n",
    "# The result is the same in this case. `side=\"right\"` returns the index where `5` would be inserted after existing elements equal to `5`.\n",
    "\n",
    "# Print the result\n",
    "print(x)\n"
   ]
  },
  {
   "cell_type": "markdown",
   "id": "36308a43-053a-4626-bdde-61090fc29fcc",
   "metadata": {},
   "source": [
    "# Sort"
   ]
  },
  {
   "cell_type": "code",
   "execution_count": 32,
   "id": "cff51d6f-0e8e-4eaf-83ac-41f688c224cf",
   "metadata": {
    "scrolled": true
   },
   "outputs": [
    {
     "name": "stdout",
     "output_type": "stream",
     "text": [
      "[1 2 3 4 5 6]\n"
     ]
    }
   ],
   "source": [
    "# Create a 1D array with unsorted numbers\n",
    "var1 = np.array([5, 1, 2, 4, 3, 6])\n",
    "\n",
    "# Sort the 1D array in ascending order\n",
    "x = np.sort(var1)\n",
    "\n",
    "# The array is sorted from the smallest to the largest element.\n",
    "\n",
    "# Print the sorted 1D array\n",
    "print(x)\n",
    "\n",
    "# Create a 2D array (matrix) with unsorted numbers\n",
    "var3 = np.array([[1, 6, 5, 2], [2, 4, 3, 1]])\n",
    "\n",
    "# Sort each row of the 2D array in ascending order\n",
    "sorted_var3 = np.sort(var3)\n"
   ]
  },
  {
   "cell_type": "markdown",
   "id": "cf60701f",
   "metadata": {},
   "source": [
    "for stings"
   ]
  },
  {
   "cell_type": "code",
   "execution_count": 33,
   "id": "455daf66-fb17-4dd8-a8f1-b4a3bb1ee60b",
   "metadata": {
    "scrolled": true
   },
   "outputs": [
    {
     "name": "stdout",
     "output_type": "stream",
     "text": [
      "['a' 'b' 'e' 'f' 's']\n"
     ]
    }
   ],
   "source": [
    "# Create a 1D array with unsorted strings\n",
    "var_2 = np.array([\"s\", \"a\", \"e\", \"b\", \"f\"])\n",
    "\n",
    "# Sort the array of strings in alphabetical order\n",
    "sorted_var_2 = np.sort(var_2)\n",
    "# The array is sorted alphabetically from 'a' to '.\n",
    "\n",
    "# Print the sorted array of strings\n",
    "print(sorted_var_2)\n"
   ]
  },
  {
   "cell_type": "markdown",
   "id": "d120860a-5593-4ace-8f7c-cb623820ee8a",
   "metadata": {},
   "source": [
    "# Filter array"
   ]
  },
  {
   "cell_type": "code",
   "execution_count": 56,
   "id": "f70b9ccf-1136-4117-a7b2-0b43d70c0e27",
   "metadata": {
    "scrolled": true
   },
   "outputs": [
    {
     "name": "stdout",
     "output_type": "stream",
     "text": [
      "['a' 'c']\n"
     ]
    }
   ],
   "source": [
    "# Create a 1D array of strings\n",
    "v3 = np.array([\"a\", \"d\", \"c\", \"f\"])\n",
    "\n",
    "# Create a boolean array where `True` indicates which elements to select\n",
    "f = [True, False, True, False]\n",
    "\n",
    "# Use boolean indexing to select elements from `v3` where the corresponding value in `f` is `True`\n",
    "new_a = v3[f]\n",
    "# Output: ['a' 'c']\n",
    "# Only the elements where the boolean array `f` has `True` values are selected. Here, 'a' and 'c' are selected.\n",
    "\n",
    "# Print the resulting array\n",
    "print(new_a)\n"
   ]
  },
  {
   "cell_type": "markdown",
   "id": "b14ed083-35ed-47a5-b675-aa68023303cc",
   "metadata": {},
   "source": [
    "# Shuffle()"
   ]
  },
  {
   "cell_type": "code",
   "execution_count": 35,
   "id": "7c57e19c-8d4b-458b-97b9-7a64176ee639",
   "metadata": {
    "scrolled": true
   },
   "outputs": [
    {
     "name": "stdout",
     "output_type": "stream",
     "text": [
      "[5 4 3 6 1 2]\n"
     ]
    }
   ],
   "source": [
    "# Create a 1D array with numbers\n",
    "X = np.array([1, 2, 3, 4, 5, 6])\n",
    "\n",
    "# Shuffle the elements of the array in place\n",
    "np.random.shuffle(X)\n",
    "# The array `X` is modified to have its elements in a random order.\n",
    "\n",
    "# Print the shuffled array\n",
    "print(X)\n"
   ]
  },
  {
   "cell_type": "markdown",
   "id": "1fb25715-2966-48f7-bf28-e6f922052614",
   "metadata": {},
   "source": [
    "# Unique"
   ]
  },
  {
   "cell_type": "code",
   "execution_count": 36,
   "id": "bc73f506-3e66-4357-aa49-9eadc16100a2",
   "metadata": {
    "scrolled": true
   },
   "outputs": [
    {
     "name": "stdout",
     "output_type": "stream",
     "text": [
      "(array([1, 2, 3, 4, 5, 6]), array([ 0,  1,  2,  3,  8, 11]), array([1, 4, 2, 2, 2, 1]))\n"
     ]
    }
   ],
   "source": [
    "# Create a 1D array with some repeated numbers\n",
    "Y = np.array([1, 2, 3, 4, 2, 4, 2, 3, 5, 2, 5, 6])\n",
    "\n",
    "# Find unique elements, their first occurrence indices, and counts\n",
    "x = np.unique(Y, return_index=True, return_counts=True)\n",
    "# Output: (array([1, 2, 3, 4, 5, 6]), array([0, 1, 2, 3, 8, 11]), array([1, 4, 2, 2, 2, 1]))\n",
    "# - The first array shows the unique elements in sorted order.\n",
    "# - The second array shows the indices of the first occurrence of each unique element in the original array.\n",
    "# - The third array shows the count of each unique element.\n",
    "\n",
    "# Print the result\n",
    "print(x)\n"
   ]
  },
  {
   "cell_type": "markdown",
   "id": "8d247cb8-572f-499e-88b2-10203726b9bf",
   "metadata": {},
   "source": [
    "# Resize"
   ]
  },
  {
   "cell_type": "code",
   "execution_count": 37,
   "id": "89b24ad8-ef10-48fa-bfc2-3cfd2ce50b3c",
   "metadata": {
    "scrolled": true
   },
   "outputs": [
    {
     "name": "stdout",
     "output_type": "stream",
     "text": [
      "[[1 2]\n",
      " [3 4]\n",
      " [5 6]]\n"
     ]
    }
   ],
   "source": [
    "# Create a 1D array with numbers\n",
    "X = np.array([1, 2, 3, 4, 5, 6])\n",
    "\n",
    "# Resize the array to the shape (3, 2)\n",
    "y = np.resize(X, (3, 2))\n",
    "\n",
    "# Print the resized array\n",
    "print(y)\n"
   ]
  },
  {
   "cell_type": "markdown",
   "id": "109f6ddf-7cc5-42f9-accd-a5c15c806fa9",
   "metadata": {},
   "source": [
    "# Flatten and Ravel"
   ]
  },
  {
   "cell_type": "code",
   "execution_count": null,
   "id": "f1ceeda2-f85f-4a9f-b470-1547b123c56d",
   "metadata": {},
   "outputs": [],
   "source": [
    "# Create a 1D array with numbers\n",
    "X = np.array([1, 2, 3, 4, 5, 6])\n",
    "\n",
    "# Resize the array to the shape (3, 2)\n",
    "y = np.resize(X, (3, 2))\n",
    "# Output:\n",
    "# [[1 2]\n",
    "#  [3 4]\n",
    "#  [5 6]]\n",
    "# The array is reshaped into a 3x2 matrix.\n",
    "\n",
    "# Print the resized array\n",
    "print(y)\n",
    "\n",
    "# Flatten the array in Fortran (column-major) order\n",
    "flattened_f = y.flatten(order=\"F\")\n",
    "# Output: [1 3 5 2 4 6]\n",
    "# The array is flattened by column-major order, which means it reads columns first.\n",
    "\n",
    "# Print the flattened array in Fortran order\n",
    "print(flattened_f)\n",
    "\n",
    "# Flatten the array in 'K' order (keep the original order)\n",
    "raveled_k = np.ravel(y, order=\"K\")\n",
    "# Output: [1 2 3 4 5 6]\n",
    "# The array is flattened in the order of its original arrangement. 'K' stands for 'keep' order.\n",
    "\n",
    "# Print the ravele\n"
   ]
  },
  {
   "cell_type": "markdown",
   "id": "3c4a590a-d622-4811-aa9e-03e577de17d5",
   "metadata": {},
   "source": [
    "# Insert"
   ]
  },
  {
   "cell_type": "code",
   "execution_count": 38,
   "id": "61dcd86d-d154-4509-aa6a-605f5e20f8ad",
   "metadata": {
    "scrolled": true
   },
   "outputs": [
    {
     "name": "stdout",
     "output_type": "stream",
     "text": [
      "[ 1  2 40  3  4 40  5]\n"
     ]
    }
   ],
   "source": [
    "# Create a 1D array with numbers\n",
    "Z = np.array([1, 2, 3, 4, 5])\n",
    "\n",
    "# Insert the value 40 at positions 2 and 4\n",
    "V = np.insert(Z, (2, 4), 40)\n",
    "\n",
    "# The value 40 is inserted at the indices 2 and 4. \n",
    "# Elements are shifted to the right to accommodate the new values.\n",
    "\n",
    "# Print the resulting array\n",
    "print(V)\n"
   ]
  },
  {
   "cell_type": "markdown",
   "id": "9f4d9fe1",
   "metadata": {},
   "source": [
    "insert in 2D array"
   ]
  },
  {
   "cell_type": "code",
   "execution_count": 39,
   "id": "4d46c5f1-b4c9-4e2b-971f-9d64d7cd6e68",
   "metadata": {
    "scrolled": true
   },
   "outputs": [
    {
     "name": "stdout",
     "output_type": "stream",
     "text": [
      "[[ 1  2 40  3]\n",
      " [ 4  6 30  5]]\n"
     ]
    }
   ],
   "source": [
    "# Create a 2D array (matrix)\n",
    "Z = np.array([[1, 2, 3], [4, 6, 5]])\n",
    "\n",
    "# Insert the values [40, 30] into the 2D array `Z` along the columns (axis=1)\n",
    "V = np.insert(Z, 2, [40, 30], axis=1)\n",
    "# Output:\n",
    "\n",
    "# The values [40, 30] are inserted as new columns at index 2. \n",
    "# The array is updated to have these new columns.\n",
    "\n",
    "# Print the resulting array\n",
    "print(V)\n"
   ]
  },
  {
   "cell_type": "markdown",
   "id": "5c935462-116d-4024-acef-50b6f54be781",
   "metadata": {},
   "source": [
    "# Delete\n"
   ]
  },
  {
   "cell_type": "code",
   "execution_count": 40,
   "id": "5262fa15-6bd0-4522-9245-bae50df7ff06",
   "metadata": {
    "scrolled": true
   },
   "outputs": [
    {
     "name": "stdout",
     "output_type": "stream",
     "text": [
      "[1 2 4 5]\n"
     ]
    }
   ],
   "source": [
    "# Create a 1D array with numbers\n",
    "Z = np.array([1, 2, 3, 4, 5])\n",
    "\n",
    "# Delete the element at index 2\n",
    "d = np.delete(Z, 2)\n",
    "\n",
    "# The element at index 2 (which is 3) is removed from the array.\n",
    "\n",
    "# Print the resulting array\n",
    "print(d)\n"
   ]
  },
  {
   "cell_type": "markdown",
   "id": "0336e0b2",
   "metadata": {},
   "source": [
    "# Matrix"
   ]
  },
  {
   "cell_type": "code",
   "execution_count": 64,
   "id": "fc5efd22",
   "metadata": {
    "scrolled": true
   },
   "outputs": [
    {
     "name": "stdout",
     "output_type": "stream",
     "text": [
      "<class 'numpy.matrix'>\n",
      "\n",
      "[[219 261  82]\n",
      " [441 531 196]\n",
      " [663 801 310]]\n"
     ]
    }
   ],
   "source": [
    "# Create two matrices using np.matrix\n",
    "m1 = np.matrix([[1, 2, 3], [4, 5, 6], [7, 8, 9]])\n",
    "m2 = np.matrix([[1, 2, 3], [1, 5, 26], [72, 83, 9]])\n",
    "\n",
    "# Print the type of m1 to confirm it is a matrix\n",
    "print(type(m1))\n",
    "# Output: <class 'numpy.matrix'>\n",
    "# This confirms that m1 is indeed a NumPy matrix object.\n",
    "\n",
    "print()\n",
    "\n",
    "# Compute the matrix product of m1 and m2\n",
    "result = m1.dot(m2)\n",
    "\n",
    "# The dot() method performs matrix multiplication.\n",
    "\n",
    "# Print the resulting matrix\n",
    "print(result)\n"
   ]
  },
  {
   "cell_type": "markdown",
   "id": "7d843565",
   "metadata": {},
   "source": [
    "# Transpose and Swapaxes"
   ]
  },
  {
   "cell_type": "code",
   "execution_count": null,
   "id": "821c9725",
   "metadata": {},
   "outputs": [],
   "source": [
    "# Create a 3x3 matrix using np.matrix\n",
    "m1 = np.matrix([[1, 2, 3], [4, 5, 6], [7, 8, 9]])\n",
    "\n",
    "# Transpose the matrix using np.transpose\n",
    "print(np.transpose(m1))\n",
    "# Output:\n",
    "# [[1 4 7]\n",
    "#  [2 5 8]\n",
    "#  [3 6 9]]\n",
    "# np.transpose() returns the transpose of the matrix. It flips rows and columns.\n",
    "\n",
    "# Transpose the matrix using the .T attribute\n",
    "print(m1.T)\n",
    "# Output:\n",
    "# [[1 4 7]\n",
    "#  [2 5 8]\n",
    "#  [3 6 9]]\n",
    "# The .T attribute is a shorthand for transposing a matrix. It also flips rows and columns.\n",
    "\n",
    "# Transpose the matrix using np.swapaxes\n",
    "print(np.swapaxes(m1, 0, 1))\n",
    "# Output:\n",
    "# [[1 4 7]\n",
    "#  [2 5 8]\n",
    "#  [3 6 9]]\n",
    "# np.swapaxes() swaps the axes of the matrix. Here, axis 0 (rows) and axis 1 (columns) are swapped.\n"
   ]
  },
  {
   "cell_type": "markdown",
   "id": "231ddc42",
   "metadata": {},
   "source": [
    "# Inverse Matrix"
   ]
  },
  {
   "cell_type": "code",
   "execution_count": null,
   "id": "79525931",
   "metadata": {},
   "outputs": [],
   "source": [
    "# Create a 2x2 matrix using np.matrix\n",
    "var2 = np.matrix([[1, 2], [3, 4]])\n",
    "\n",
    "# Compute the inverse of the matrix using np.linalg.inv\n",
    "inverse_matrix = np.linalg.inv(var2)\n",
    "# Output:\n",
    "# [[-2.   1. ]\n",
    "#  [ 1.5 -0.5]]\n",
    "# The inverse of the matrix is a matrix such that when multiplied with the original matrix,\n",
    "# it results in the identity matrix.\n",
    "\n",
    "# Print the resulting inverse matrix\n",
    "print(inverse_matrix)\n"
   ]
  },
  {
   "cell_type": "markdown",
   "id": "b204091c",
   "metadata": {},
   "source": [
    "# Power"
   ]
  },
  {
   "cell_type": "code",
   "execution_count": null,
   "id": "fbf7232c",
   "metadata": {},
   "outputs": [],
   "source": [
    "# Create a 2x2 matrix using np.matrix\n",
    "var4 = np.matrix([[1, 2], [3, 4]])\n",
    "\n",
    "# Print the original matrix\n",
    "print(var4)\n",
    "# Output:\n",
    "# [[1 2]\n",
    "#  [3 4]]\n",
    "\n",
    "print()\n",
    "\n",
    "# Compute the matrix raised to the power of 2\n",
    "# Equivalent to multiplying the matrix by itself\n",
    "print(np.linalg.matrix_power(var4, 2))\n",
    "# Output:\n",
    "# [[ 7 10]\n",
    "#  [15 22]]\n",
    "# This is the result of multiplying the matrix var4 by itself.\n",
    "\n",
    "print()\n",
    "\n",
    "# Compute the matrix raised to the power of 0\n",
    "# Any matrix to the power of 0 is the identity matrix of the same size\n",
    "print(np.linalg.matrix_power(var4, 0))\n",
    "# Output:\n",
    "# [[1 0]\n",
    "#  [0 1]]\n",
    "# The identity matrix. The result is a matrix where the diagonal elements are 1 and all other elements are 0.\n",
    "\n",
    "print()\n",
    "\n",
    "# Compute the matrix raised to the power of -2\n",
    "# This is equivalent to computing the inverse of the matrix and then squaring it\n",
    "print(np.linalg.matrix_power(var4, -2))\n",
    "# Output:\n",
    "# [[-2.   1. ]\n",
    "#  [ 1.5 -0.5]]\n",
    "# This is the result of taking the inverse of the matrix var4 and then squaring it.\n",
    "\n",
    "# Note: The output may vary slightly due to floating-point precision.\n"
   ]
  },
  {
   "cell_type": "markdown",
   "id": "afc93c9c",
   "metadata": {},
   "source": [
    "# Determinant"
   ]
  },
  {
   "cell_type": "code",
   "execution_count": null,
   "id": "1ec33aa0",
   "metadata": {},
   "outputs": [],
   "source": [
    "# Create a 2x2 matrix\n",
    "var5 = np.matrix([[1, 2], [3, 4]])\n",
    "\n",
    "# Compute the determinant of var5\n",
    "det_var5 = np.linalg.det(var5)\n",
    "print(det_var5)\n",
    "# Output: -2.0000000000000004\n",
    "# The determinant of a 2x2 matrix can be computed as (ad - bc) where the matrix is [[a, b], [c, d]].\n",
    "\n",
    "print()\n",
    "\n",
    "# Create a 3x3 matrix\n",
    "var6 = np.matrix([[1, -6, -3], [4, 9, -6], [7, -1, 9]])\n",
    "\n",
    "# Compute the determinant of var6\n",
    "det_var6 = np.linalg.det(var6)\n",
    "print(det_var6)\n",
    "# Output: -168.00000000000003\n",
    "# The determinant of a 3x3 matrix is computed using a more complex formula involving sums and products of its elements.\n"
   ]
  },
  {
   "cell_type": "markdown",
   "id": "c269bead",
   "metadata": {},
   "source": [
    "# ********** Numpy Basics End **********"
   ]
  }
 ],
 "metadata": {
  "kernelspec": {
   "display_name": "Python 3 (ipykernel)",
   "language": "python",
   "name": "python3"
  },
  "language_info": {
   "codemirror_mode": {
    "name": "ipython",
    "version": 3
   },
   "file_extension": ".py",
   "mimetype": "text/x-python",
   "name": "python",
   "nbconvert_exporter": "python",
   "pygments_lexer": "ipython3",
   "version": "3.12.4"
  },
  "toc": {
   "base_numbering": 2
  }
 },
 "nbformat": 4,
 "nbformat_minor": 5
}
